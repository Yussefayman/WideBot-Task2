{
 "cells": [
  {
   "cell_type": "markdown",
   "metadata": {},
   "source": [
    "# Imports and loading data"
   ]
  },
  {
   "cell_type": "code",
   "execution_count": 302,
   "metadata": {},
   "outputs": [
    {
     "data": {
      "text/html": [
       "<div>\n",
       "<style scoped>\n",
       "    .dataframe tbody tr th:only-of-type {\n",
       "        vertical-align: middle;\n",
       "    }\n",
       "\n",
       "    .dataframe tbody tr th {\n",
       "        vertical-align: top;\n",
       "    }\n",
       "\n",
       "    .dataframe thead th {\n",
       "        text-align: right;\n",
       "    }\n",
       "</style>\n",
       "<table border=\"1\" class=\"dataframe\">\n",
       "  <thead>\n",
       "    <tr style=\"text-align: right;\">\n",
       "      <th></th>\n",
       "      <th>variable2</th>\n",
       "      <th>variable3</th>\n",
       "      <th>variable8</th>\n",
       "      <th>variable11</th>\n",
       "      <th>variable14</th>\n",
       "      <th>variable15</th>\n",
       "      <th>variable17</th>\n",
       "      <th>variable19</th>\n",
       "    </tr>\n",
       "  </thead>\n",
       "  <tbody>\n",
       "    <tr>\n",
       "      <th>count</th>\n",
       "      <td>3661.000000</td>\n",
       "      <td>3700.000000</td>\n",
       "      <td>3700.000000</td>\n",
       "      <td>3700.000000</td>\n",
       "      <td>3600.000000</td>\n",
       "      <td>3700.000000</td>\n",
       "      <td>3.600000e+03</td>\n",
       "      <td>3700.000000</td>\n",
       "    </tr>\n",
       "    <tr>\n",
       "      <th>mean</th>\n",
       "      <td>2698.231631</td>\n",
       "      <td>1210.569655</td>\n",
       "      <td>720.540000</td>\n",
       "      <td>4.160000</td>\n",
       "      <td>162.695000</td>\n",
       "      <td>2246.705946</td>\n",
       "      <td>1.626950e+06</td>\n",
       "      <td>0.925405</td>\n",
       "    </tr>\n",
       "    <tr>\n",
       "      <th>std</th>\n",
       "      <td>1690.388911</td>\n",
       "      <td>3163.834623</td>\n",
       "      <td>1930.736215</td>\n",
       "      <td>6.750553</td>\n",
       "      <td>156.045682</td>\n",
       "      <td>8708.571126</td>\n",
       "      <td>1.560457e+06</td>\n",
       "      <td>0.262772</td>\n",
       "    </tr>\n",
       "    <tr>\n",
       "      <th>min</th>\n",
       "      <td>16.000000</td>\n",
       "      <td>0.000000</td>\n",
       "      <td>0.000000</td>\n",
       "      <td>0.000000</td>\n",
       "      <td>0.000000</td>\n",
       "      <td>0.000000</td>\n",
       "      <td>0.000000e+00</td>\n",
       "      <td>0.000000</td>\n",
       "    </tr>\n",
       "    <tr>\n",
       "      <th>25%</th>\n",
       "      <td>1917.000000</td>\n",
       "      <td>0.000830</td>\n",
       "      <td>8.000000</td>\n",
       "      <td>0.000000</td>\n",
       "      <td>0.000000</td>\n",
       "      <td>0.000000</td>\n",
       "      <td>0.000000e+00</td>\n",
       "      <td>1.000000</td>\n",
       "    </tr>\n",
       "    <tr>\n",
       "      <th>50%</th>\n",
       "      <td>2558.000000</td>\n",
       "      <td>55.000000</td>\n",
       "      <td>71.000000</td>\n",
       "      <td>2.000000</td>\n",
       "      <td>120.000000</td>\n",
       "      <td>113.000000</td>\n",
       "      <td>1.200000e+06</td>\n",
       "      <td>1.000000</td>\n",
       "    </tr>\n",
       "    <tr>\n",
       "      <th>75%</th>\n",
       "      <td>3667.000000</td>\n",
       "      <td>452.250000</td>\n",
       "      <td>415.000000</td>\n",
       "      <td>6.000000</td>\n",
       "      <td>280.000000</td>\n",
       "      <td>1059.750000</td>\n",
       "      <td>2.800000e+06</td>\n",
       "      <td>1.000000</td>\n",
       "    </tr>\n",
       "    <tr>\n",
       "      <th>max</th>\n",
       "      <td>8025.000000</td>\n",
       "      <td>26335.000000</td>\n",
       "      <td>14415.000000</td>\n",
       "      <td>67.000000</td>\n",
       "      <td>1160.000000</td>\n",
       "      <td>100000.000000</td>\n",
       "      <td>1.160000e+07</td>\n",
       "      <td>1.000000</td>\n",
       "    </tr>\n",
       "  </tbody>\n",
       "</table>\n",
       "</div>"
      ],
      "text/plain": [
       "         variable2     variable3     variable8   variable11   variable14  \\\n",
       "count  3661.000000   3700.000000   3700.000000  3700.000000  3600.000000   \n",
       "mean   2698.231631   1210.569655    720.540000     4.160000   162.695000   \n",
       "std    1690.388911   3163.834623   1930.736215     6.750553   156.045682   \n",
       "min      16.000000      0.000000      0.000000     0.000000     0.000000   \n",
       "25%    1917.000000      0.000830      8.000000     0.000000     0.000000   \n",
       "50%    2558.000000     55.000000     71.000000     2.000000   120.000000   \n",
       "75%    3667.000000    452.250000    415.000000     6.000000   280.000000   \n",
       "max    8025.000000  26335.000000  14415.000000    67.000000  1160.000000   \n",
       "\n",
       "          variable15    variable17   variable19  \n",
       "count    3700.000000  3.600000e+03  3700.000000  \n",
       "mean     2246.705946  1.626950e+06     0.925405  \n",
       "std      8708.571126  1.560457e+06     0.262772  \n",
       "min         0.000000  0.000000e+00     0.000000  \n",
       "25%         0.000000  0.000000e+00     1.000000  \n",
       "50%       113.000000  1.200000e+06     1.000000  \n",
       "75%      1059.750000  2.800000e+06     1.000000  \n",
       "max    100000.000000  1.160000e+07     1.000000  "
      ]
     },
     "execution_count": 302,
     "metadata": {},
     "output_type": "execute_result"
    }
   ],
   "source": [
    "import  numpy as np\n",
    "import pandas as pd\n",
    "import seaborn as sns\n",
    "from sklearn.ensemble import RandomForestClassifier\n",
    "from sklearn.metrics import accuracy_score,f1_score,recall_score,precision_score\n",
    "from sklearn.metrics import confusion_matrix\n",
    "from sklearn.utils import resample\n",
    "from pandas_profiling import ProfileReport\n",
    "from sklearn import preprocessing\n",
    "from sklearn.model_selection import train_test_split\n",
    "\n",
    "train_data = pd.read_csv(\"C:\\\\Users\\\\Yousef\\\\Desktop\\\\Internship-Task\\\\training.csv\")\n",
    "test_data = pd.read_csv(\"C:\\\\Users\\\\Yousef\\\\Desktop\\\\Internship-Task\\\\validation.csv\")\n",
    "train_data.describe()"
   ]
  },
  {
   "cell_type": "markdown",
   "metadata": {},
   "source": [
    "# Checking Target value imbalance \n",
    "- Majority class represents 93% , minority class represents 7%"
   ]
  },
  {
   "cell_type": "code",
   "execution_count": 303,
   "metadata": {},
   "outputs": [
    {
     "name": "stdout",
     "output_type": "stream",
     "text": [
      "Training data target value distrbution\n",
      "\n",
      "1    3424\n",
      "0     276\n",
      "Name: classLabel, dtype: int64\n"
     ]
    }
   ],
   "source": [
    "#Check target value imbalance\n",
    "train_data ['classLabel']=[1 if i == \"yes.\" else 0 for i in train_data.classLabel]\n",
    "print(\"Training data target value distrbution\\n\")\n",
    "print(train_data['classLabel'].value_counts())\n",
    "test_data['classLabel']=[1 if i == \"yes.\" else 0 for i in test_data.classLabel]\n",
    "# yes. represent 93% , no. represent only 7% percent of the data, there is a class imbalance."
   ]
  },
  {
   "cell_type": "markdown",
   "metadata": {},
   "source": [
    "# Exploring Data using pandas_profiling\n"
   ]
  },
  {
   "cell_type": "code",
   "execution_count": 304,
   "metadata": {
    "scrolled": true
   },
   "outputs": [
    {
     "data": {
      "application/vnd.jupyter.widget-view+json": {
       "model_id": "e673244dcc384754bfe22fe8787342d7",
       "version_major": 2,
       "version_minor": 0
      },
      "text/plain": [
       "HBox(children=(FloatProgress(value=0.0, description='Summarize dataset', max=33.0, style=ProgressStyle(descrip…"
      ]
     },
     "metadata": {},
     "output_type": "display_data"
    },
    {
     "name": "stdout",
     "output_type": "stream",
     "text": [
      "\n"
     ]
    },
    {
     "data": {
      "application/vnd.jupyter.widget-view+json": {
       "model_id": "2719217348594118b2c5a1168efdd084",
       "version_major": 2,
       "version_minor": 0
      },
      "text/plain": [
       "HBox(children=(FloatProgress(value=0.0, description='Generate report structure', max=1.0, style=ProgressStyle(…"
      ]
     },
     "metadata": {},
     "output_type": "display_data"
    },
    {
     "name": "stderr",
     "output_type": "stream",
     "text": [
      "C:\\Users\\Yousef\\AppData\\Roaming\\Python\\Python36\\site-packages\\pandas_profiling\\visualisation\\plot.py:154: MatplotlibDeprecationWarning: You are modifying the state of a globally registered colormap. In future versions, you will not be able to modify a registered colormap in-place. To remove this warning, you can make a copy of the colormap first. cmap = copy.copy(mpl.cm.get_cmap(\"RdBu\"))\n",
      "  cmap.set_bad(cmap_bad)\n"
     ]
    },
    {
     "name": "stdout",
     "output_type": "stream",
     "text": [
      "\n"
     ]
    },
    {
     "data": {
      "application/vnd.jupyter.widget-view+json": {
       "model_id": "e4b4a191d76f4891b848c45cd03a0dd6",
       "version_major": 2,
       "version_minor": 0
      },
      "text/plain": [
       "HBox(children=(FloatProgress(value=0.0, description='Render HTML', max=1.0, style=ProgressStyle(description_wi…"
      ]
     },
     "metadata": {},
     "output_type": "display_data"
    },
    {
     "name": "stdout",
     "output_type": "stream",
     "text": [
      "\n"
     ]
    },
    {
     "data": {
      "application/vnd.jupyter.widget-view+json": {
       "model_id": "12e900882a69477991ae2523f334349d",
       "version_major": 2,
       "version_minor": 0
      },
      "text/plain": [
       "HBox(children=(FloatProgress(value=0.0, description='Export report to file', max=1.0, style=ProgressStyle(desc…"
      ]
     },
     "metadata": {},
     "output_type": "display_data"
    },
    {
     "name": "stdout",
     "output_type": "stream",
     "text": [
      "\n"
     ]
    }
   ],
   "source": [
    "#Exploring Data using pandas_profiling to get insights about the data.\n",
    "\n",
    "wide_bot_profile = ProfileReport(train_data, title='WideBot Profiling Report', explorative = True)\n",
    "wide_bot_profile\n",
    "wide_bot_profile.to_file(\"WideBot.html\")"
   ]
  },
  {
   "cell_type": "markdown",
   "metadata": {},
   "source": [
    "# HIGH CORRELATION\n",
    "- There are highly correlated columns , which could affect the model performance because it's not adding new features or value to the model performance, So i dropped highly correlated columns for training and validation data\n"
   ]
  },
  {
   "cell_type": "code",
   "execution_count": 305,
   "metadata": {
    "scrolled": true
   },
   "outputs": [],
   "source": [
    "#vars:17,19,4,18 have high correlation which could affect the model.\n",
    "train_data =train_data.drop(['variable17','variable19','variable4','variable18'],axis=1)\n",
    "test_data =test_data.drop(['variable17','variable19','variable4','variable18'],axis=1) \n"
   ]
  },
  {
   "cell_type": "markdown",
   "metadata": {},
   "source": [
    "# MISSING VALUES\n",
    "- Replacing missing categorical values by the most frequent value representing that class , replacing missing numerical values by the median representing that class. I didn't use the mean of the column because the mean could be affected by outliers values."
   ]
  },
  {
   "cell_type": "code",
   "execution_count": 306,
   "metadata": {},
   "outputs": [],
   "source": [
    "def fill_missing_values(data):\n",
    "    data['variable1'].fillna('b',inplace=True)\n",
    "    var2_median = data['variable2'].median()\n",
    "    data['variable2'].fillna(var2_median,inplace=True)\n",
    "    data['variable5'].fillna('g',inplace=True)\n",
    "    data['variable6'].fillna('c',inplace=True)\n",
    "    data['variable7'].fillna('v',inplace=True)\n",
    "    var14_median = data['variable14'].median()\n",
    "    data['variable14'].fillna(var14_median,inplace=True)\n",
    "fill_missing_values(train_data)\n",
    "fill_missing_values(test_data)"
   ]
  },
  {
   "cell_type": "markdown",
   "metadata": {},
   "source": [
    "# ENCODING CATEGORICAL VALUES TO NUMERICAL VALUES.\n",
    "- I used simple label encoder because it's faster approch and works well with tree based models and doesn't consume as much memory as onehot encoder with many distinct values , i didn't use onehot encoder because variable6 has 14 distinct values which could be bad for memory usage, otherwise the onehot encoder could work better than the simple encoder."
   ]
  },
  {
   "cell_type": "code",
   "execution_count": 307,
   "metadata": {},
   "outputs": [],
   "source": [
    "#replace categorical ==> numerical\n",
    "\n",
    "label_encoder = preprocessing.LabelEncoder()\n",
    "categorical_vars = ['variable1','variable5','variable6','variable7','variable9','variable10','variable12','variable13']\n",
    "cat_cols = train_data[categorical_vars].copy()\n",
    "cat_test_cols=test_data[categorical_vars].copy()\n",
    "\n",
    "for col in cat_cols:\n",
    "    cat_cols[col]=label_encoder.fit_transform(cat_cols[col])\n",
    "    cat_test_cols[col]=label_encoder.transform(cat_test_cols[col])\n",
    "for i in categorical_vars:\n",
    "    train_data[i] = cat_cols[i].values\n",
    "    test_data[i]=cat_test_cols[i].values\n"
   ]
  },
  {
   "cell_type": "markdown",
   "metadata": {},
   "source": [
    "# NORMALIZATION\n",
    "- I used simple type of normalization for numerical values by dividing by the mean of the column, for better performance i could have used min max scaler from sklearn. but i wanted to keep it clean and simple as possible."
   ]
  },
  {
   "cell_type": "code",
   "execution_count": 308,
   "metadata": {},
   "outputs": [
    {
     "data": {
      "text/html": [
       "<div>\n",
       "<style scoped>\n",
       "    .dataframe tbody tr th:only-of-type {\n",
       "        vertical-align: middle;\n",
       "    }\n",
       "\n",
       "    .dataframe tbody tr th {\n",
       "        vertical-align: top;\n",
       "    }\n",
       "\n",
       "    .dataframe thead th {\n",
       "        text-align: right;\n",
       "    }\n",
       "</style>\n",
       "<table border=\"1\" class=\"dataframe\">\n",
       "  <thead>\n",
       "    <tr style=\"text-align: right;\">\n",
       "      <th></th>\n",
       "      <th>variable1</th>\n",
       "      <th>variable2</th>\n",
       "      <th>variable3</th>\n",
       "      <th>variable5</th>\n",
       "      <th>variable6</th>\n",
       "      <th>variable7</th>\n",
       "      <th>variable8</th>\n",
       "      <th>variable9</th>\n",
       "      <th>variable10</th>\n",
       "      <th>variable11</th>\n",
       "      <th>variable12</th>\n",
       "      <th>variable13</th>\n",
       "      <th>variable14</th>\n",
       "      <th>variable15</th>\n",
       "      <th>classLabel</th>\n",
       "    </tr>\n",
       "  </thead>\n",
       "  <tbody>\n",
       "    <tr>\n",
       "      <th>0</th>\n",
       "      <td>0</td>\n",
       "      <td>0.664503</td>\n",
       "      <td>4.460710e-07</td>\n",
       "      <td>0</td>\n",
       "      <td>2</td>\n",
       "      <td>7</td>\n",
       "      <td>0.242873</td>\n",
       "      <td>0</td>\n",
       "      <td>1</td>\n",
       "      <td>0.240385</td>\n",
       "      <td>1</td>\n",
       "      <td>0</td>\n",
       "      <td>0.495230</td>\n",
       "      <td>0.002225</td>\n",
       "      <td>0</td>\n",
       "    </tr>\n",
       "    <tr>\n",
       "      <th>1</th>\n",
       "      <td>1</td>\n",
       "      <td>0.627421</td>\n",
       "      <td>2.767292e-06</td>\n",
       "      <td>2</td>\n",
       "      <td>9</td>\n",
       "      <td>7</td>\n",
       "      <td>0.040248</td>\n",
       "      <td>0</td>\n",
       "      <td>0</td>\n",
       "      <td>0.000000</td>\n",
       "      <td>0</td>\n",
       "      <td>2</td>\n",
       "      <td>1.238075</td>\n",
       "      <td>0.000000</td>\n",
       "      <td>0</td>\n",
       "    </tr>\n",
       "    <tr>\n",
       "      <th>2</th>\n",
       "      <td>1</td>\n",
       "      <td>1.158801</td>\n",
       "      <td>9.293146e-01</td>\n",
       "      <td>0</td>\n",
       "      <td>6</td>\n",
       "      <td>2</td>\n",
       "      <td>0.000000</td>\n",
       "      <td>0</td>\n",
       "      <td>1</td>\n",
       "      <td>0.240385</td>\n",
       "      <td>0</td>\n",
       "      <td>0</td>\n",
       "      <td>0.594276</td>\n",
       "      <td>0.008457</td>\n",
       "      <td>0</td>\n",
       "    </tr>\n",
       "    <tr>\n",
       "      <th>3</th>\n",
       "      <td>0</td>\n",
       "      <td>1.786222</td>\n",
       "      <td>1.102787e+00</td>\n",
       "      <td>0</td>\n",
       "      <td>7</td>\n",
       "      <td>6</td>\n",
       "      <td>0.464929</td>\n",
       "      <td>0</td>\n",
       "      <td>0</td>\n",
       "      <td>0.000000</td>\n",
       "      <td>0</td>\n",
       "      <td>0</td>\n",
       "      <td>0.000000</td>\n",
       "      <td>0.053412</td>\n",
       "      <td>0</td>\n",
       "    </tr>\n",
       "    <tr>\n",
       "      <th>4</th>\n",
       "      <td>1</td>\n",
       "      <td>1.198849</td>\n",
       "      <td>2.891201e-02</td>\n",
       "      <td>0</td>\n",
       "      <td>9</td>\n",
       "      <td>7</td>\n",
       "      <td>0.006939</td>\n",
       "      <td>0</td>\n",
       "      <td>0</td>\n",
       "      <td>0.000000</td>\n",
       "      <td>1</td>\n",
       "      <td>0</td>\n",
       "      <td>1.436167</td>\n",
       "      <td>0.000000</td>\n",
       "      <td>0</td>\n",
       "    </tr>\n",
       "    <tr>\n",
       "      <th>...</th>\n",
       "      <td>...</td>\n",
       "      <td>...</td>\n",
       "      <td>...</td>\n",
       "      <td>...</td>\n",
       "      <td>...</td>\n",
       "      <td>...</td>\n",
       "      <td>...</td>\n",
       "      <td>...</td>\n",
       "      <td>...</td>\n",
       "      <td>...</td>\n",
       "      <td>...</td>\n",
       "      <td>...</td>\n",
       "      <td>...</td>\n",
       "      <td>...</td>\n",
       "      <td>...</td>\n",
       "    </tr>\n",
       "    <tr>\n",
       "      <th>3695</th>\n",
       "      <td>0</td>\n",
       "      <td>0.695280</td>\n",
       "      <td>6.195430e-02</td>\n",
       "      <td>0</td>\n",
       "      <td>11</td>\n",
       "      <td>7</td>\n",
       "      <td>0.376107</td>\n",
       "      <td>1</td>\n",
       "      <td>1</td>\n",
       "      <td>1.201923</td>\n",
       "      <td>0</td>\n",
       "      <td>0</td>\n",
       "      <td>0.742845</td>\n",
       "      <td>11.895638</td>\n",
       "      <td>1</td>\n",
       "    </tr>\n",
       "    <tr>\n",
       "      <th>3696</th>\n",
       "      <td>0</td>\n",
       "      <td>0.087142</td>\n",
       "      <td>7.434516e-07</td>\n",
       "      <td>0</td>\n",
       "      <td>11</td>\n",
       "      <td>7</td>\n",
       "      <td>0.117967</td>\n",
       "      <td>1</td>\n",
       "      <td>1</td>\n",
       "      <td>1.201923</td>\n",
       "      <td>1</td>\n",
       "      <td>0</td>\n",
       "      <td>0.742845</td>\n",
       "      <td>0.000000</td>\n",
       "      <td>1</td>\n",
       "    </tr>\n",
       "    <tr>\n",
       "      <th>3697</th>\n",
       "      <td>1</td>\n",
       "      <td>1.267079</td>\n",
       "      <td>7.574946e-01</td>\n",
       "      <td>0</td>\n",
       "      <td>2</td>\n",
       "      <td>7</td>\n",
       "      <td>0.062453</td>\n",
       "      <td>1</td>\n",
       "      <td>1</td>\n",
       "      <td>2.884615</td>\n",
       "      <td>1</td>\n",
       "      <td>0</td>\n",
       "      <td>0.000000</td>\n",
       "      <td>0.098366</td>\n",
       "      <td>1</td>\n",
       "    </tr>\n",
       "    <tr>\n",
       "      <th>3698</th>\n",
       "      <td>1</td>\n",
       "      <td>1.031982</td>\n",
       "      <td>1.272128e-01</td>\n",
       "      <td>0</td>\n",
       "      <td>0</td>\n",
       "      <td>7</td>\n",
       "      <td>0.520443</td>\n",
       "      <td>1</td>\n",
       "      <td>1</td>\n",
       "      <td>1.201923</td>\n",
       "      <td>1</td>\n",
       "      <td>0</td>\n",
       "      <td>0.619038</td>\n",
       "      <td>0.001335</td>\n",
       "      <td>1</td>\n",
       "    </tr>\n",
       "    <tr>\n",
       "      <th>3699</th>\n",
       "      <td>0</td>\n",
       "      <td>1.362750</td>\n",
       "      <td>4.233544e+00</td>\n",
       "      <td>0</td>\n",
       "      <td>5</td>\n",
       "      <td>7</td>\n",
       "      <td>0.006939</td>\n",
       "      <td>1</td>\n",
       "      <td>0</td>\n",
       "      <td>0.000000</td>\n",
       "      <td>1</td>\n",
       "      <td>0</td>\n",
       "      <td>0.000000</td>\n",
       "      <td>1.780384</td>\n",
       "      <td>1</td>\n",
       "    </tr>\n",
       "  </tbody>\n",
       "</table>\n",
       "<p>3700 rows × 15 columns</p>\n",
       "</div>"
      ],
      "text/plain": [
       "      variable1  variable2     variable3  variable5  variable6  variable7  \\\n",
       "0             0   0.664503  4.460710e-07          0          2          7   \n",
       "1             1   0.627421  2.767292e-06          2          9          7   \n",
       "2             1   1.158801  9.293146e-01          0          6          2   \n",
       "3             0   1.786222  1.102787e+00          0          7          6   \n",
       "4             1   1.198849  2.891201e-02          0          9          7   \n",
       "...         ...        ...           ...        ...        ...        ...   \n",
       "3695          0   0.695280  6.195430e-02          0         11          7   \n",
       "3696          0   0.087142  7.434516e-07          0         11          7   \n",
       "3697          1   1.267079  7.574946e-01          0          2          7   \n",
       "3698          1   1.031982  1.272128e-01          0          0          7   \n",
       "3699          0   1.362750  4.233544e+00          0          5          7   \n",
       "\n",
       "      variable8  variable9  variable10  variable11  variable12  variable13  \\\n",
       "0      0.242873          0           1    0.240385           1           0   \n",
       "1      0.040248          0           0    0.000000           0           2   \n",
       "2      0.000000          0           1    0.240385           0           0   \n",
       "3      0.464929          0           0    0.000000           0           0   \n",
       "4      0.006939          0           0    0.000000           1           0   \n",
       "...         ...        ...         ...         ...         ...         ...   \n",
       "3695   0.376107          1           1    1.201923           0           0   \n",
       "3696   0.117967          1           1    1.201923           1           0   \n",
       "3697   0.062453          1           1    2.884615           1           0   \n",
       "3698   0.520443          1           1    1.201923           1           0   \n",
       "3699   0.006939          1           0    0.000000           1           0   \n",
       "\n",
       "      variable14  variable15  classLabel  \n",
       "0       0.495230    0.002225           0  \n",
       "1       1.238075    0.000000           0  \n",
       "2       0.594276    0.008457           0  \n",
       "3       0.000000    0.053412           0  \n",
       "4       1.436167    0.000000           0  \n",
       "...          ...         ...         ...  \n",
       "3695    0.742845   11.895638           1  \n",
       "3696    0.742845    0.000000           1  \n",
       "3697    0.000000    0.098366           1  \n",
       "3698    0.619038    0.001335           1  \n",
       "3699    0.000000    1.780384           1  \n",
       "\n",
       "[3700 rows x 15 columns]"
      ]
     },
     "execution_count": 308,
     "metadata": {},
     "output_type": "execute_result"
    }
   ],
   "source": [
    "#normalize numerical data\n",
    "numerical_vars = ['variable2','variable3','variable8','variable11','variable14','variable15']\n",
    "for i in numerical_vars:\n",
    "    train_data[i]=train_data[i]/np.mean(train_data[i])\n",
    "    test_data[i]=test_data[i]/np.mean(test_data[i])\n",
    "train_data"
   ]
  },
  {
   "cell_type": "markdown",
   "metadata": {},
   "source": [
    "# Data imbalance Solution\n",
    "- I used oversampling to make use of every information I have in the data and not to lose any, i would lose more than 3000 data points in undersampling technique. Synthetic samples generation (SMOTE) is a good technique as well to solve data imbalance."
   ]
  },
  {
   "cell_type": "code",
   "execution_count": 309,
   "metadata": {},
   "outputs": [
    {
     "data": {
      "text/plain": [
       "1    2742\n",
       "0    2742\n",
       "Name: classLabel, dtype: int64"
      ]
     },
     "execution_count": 309,
     "metadata": {},
     "output_type": "execute_result"
    }
   ],
   "source": [
    "# Separate input features and target\n",
    "y = train_data.classLabel\n",
    "X = train_data.drop('classLabel', axis=1)\n",
    "\n",
    "X_train, X_test, y_train, y_test = train_test_split(X, y, test_size=0.20, random_state=0)\n",
    "\n",
    "X = pd.concat([X_train, y_train], axis=1)\n",
    "\n",
    "# separate minority and majority classes\n",
    "no_choice = X[X.classLabel==0]\n",
    "yes_choice = X[X.classLabel==1]\n",
    "\n",
    "# upsample minority\n",
    "no_choice_upsample = resample(no_choice,replace=True, n_samples=len(yes_choice),random_state=0) \n",
    "\n",
    "# combine majority and upsampled minority\n",
    "full_data = pd.concat([yes_choice, no_choice_upsample])\n",
    "\n",
    "# check new class counts\n",
    "full_data.classLabel.value_counts()"
   ]
  },
  {
   "cell_type": "markdown",
   "metadata": {},
   "source": [
    "# TRAINING THE MODEL.\n",
    "- I have set 4 metrics to measure model performance, accuracy,f1_score and precision. -\n",
    "- Accuracy: num of right predictions by the model/size of data given. which is not enough.\n",
    "- Precision: num of True positive predictions/num of True positive predicitons+ num of false predicitions.\n",
    "- Recall: num of True positive predicitions/num of True positive predicitions + False negative predicitons.\n",
    "- F1 Score: it considers both recall and precision.\n",
    "- RandomForestClassifier outperform logistic regression and XGBoost on training data.\n"
   ]
  },
  {
   "cell_type": "code",
   "execution_count": 310,
   "metadata": {},
   "outputs": [
    {
     "name": "stdout",
     "output_type": "stream",
     "text": [
      "ACCURACY = 0.9905405405405405\n",
      "PRECISION = 0.9898403483309144\n",
      "F1 SCORE = 0.9948942377826404\n",
      "RECALL = 1.0\n"
     ]
    }
   ],
   "source": [
    "#RANDOM FOREST CLASSIFIER\n",
    "y_train = full_data.classLabel\n",
    "X_train = full_data.drop('classLabel', axis=1)\n",
    "\n",
    "model = RandomForestClassifier(n_estimators = 70).fit(X_train, y_train)\n",
    "\n",
    "pred = model.predict(X_test)\n",
    "\n",
    "print(\"ACCURACY = \"+str(accuracy_score(y_test, pred)))\n",
    "print(\"PRECISION = \"+str(precision_score(y_test, pred)))\n",
    "print(\"F1 SCORE = \"+str(f1_score(y_test, pred)))\n",
    "print(\"RECALL = \"+str(recall_score(y_test, pred)))\n"
   ]
  },
  {
   "cell_type": "markdown",
   "metadata": {},
   "source": [
    "# XGBoost Training"
   ]
  },
  {
   "cell_type": "code",
   "execution_count": 311,
   "metadata": {},
   "outputs": [
    {
     "name": "stdout",
     "output_type": "stream",
     "text": [
      "ACCURACY = 0.9851351351351352\n",
      "Precision = 0.9841269841269841\n",
      "F1 SCORE = 0.9919999999999999\n",
      "RECALL = 1.0\n"
     ]
    }
   ],
   "source": [
    "from xgboost import XGBClassifier\n",
    "model2 = XGBClassifier(n_estimators=70,learning_rate=0.05)\n",
    "model2.fit(X_train, y_train, early_stopping_rounds=50, eval_set=[(X_test, y_test)], verbose=False)\n",
    "pred2 = model2.predict(X_test)\n",
    "\n",
    "print(\"ACCURACY = \"+str(accuracy_score(y_test, pred2)))    \n",
    "print(\"Precision = \"+str(precision_score(y_test, pred2))) \n",
    "print(\"F1 SCORE = \"+str(f1_score(y_test, pred2)))\n",
    "print(\"RECALL = \"+str(recall_score(y_test, pred2)))\n"
   ]
  },
  {
   "cell_type": "markdown",
   "metadata": {},
   "source": [
    "# PREDICITION ON TESTING DATA"
   ]
  },
  {
   "cell_type": "code",
   "execution_count": 312,
   "metadata": {},
   "outputs": [
    {
     "data": {
      "text/plain": [
       "array([1, 0, 0, 1, 0, 0, 0, 0, 0, 0, 0, 1, 0, 0, 0, 0, 0, 0, 0, 0, 0, 0,\n",
       "       1, 1, 1, 1, 0, 0, 0, 0, 0, 1, 1, 1, 1, 1, 1, 1, 1, 1, 0, 1, 1, 1,\n",
       "       1, 1, 1, 1, 0, 1, 1, 1, 1, 1, 1, 1, 0, 1, 1, 1, 1, 1, 1, 0, 0, 0,\n",
       "       1, 0, 0, 0, 0, 0, 0, 0, 0, 0, 0, 0, 0, 1, 0, 0, 0, 0, 0, 1, 0, 0,\n",
       "       0, 0, 0, 0, 1, 0, 1, 0, 0, 0, 0, 1, 1, 1, 1, 1, 1, 1, 1, 1, 1, 1,\n",
       "       1, 1, 1, 1, 1, 1, 1, 1, 1, 1, 1, 1, 1, 1, 1, 1, 1, 0, 1, 1, 1, 0,\n",
       "       0, 1, 0, 0, 0, 1, 0, 0, 1, 1, 0, 0, 0, 0, 1, 0, 1, 1, 0, 0, 0, 0,\n",
       "       0, 0, 0, 0, 0, 0, 0, 0, 0, 0, 0, 0, 1, 0, 0, 1, 1, 0, 1, 1, 1, 1,\n",
       "       1, 1, 1, 1, 1, 1, 1, 1, 1, 1, 1, 1, 1, 1, 1, 1, 1, 1, 1, 1, 1, 1,\n",
       "       1, 1], dtype=int64)"
      ]
     },
     "execution_count": 312,
     "metadata": {},
     "output_type": "execute_result"
    }
   ],
   "source": [
    "y = test_data.classLabel\n",
    "test_data.drop('classLabel',axis=1,inplace=True)\n",
    "test_pred = model.predict(test_data)\n",
    "test_pred"
   ]
  },
  {
   "cell_type": "code",
   "execution_count": 313,
   "metadata": {},
   "outputs": [
    {
     "name": "stdout",
     "output_type": "stream",
     "text": [
      "Accuracy = 0.865\n",
      "F1 SCORE = 0.8669950738916257\n",
      "PRECISION = 0.8\n",
      "RECALL = 0.946236559139785\n"
     ]
    },
    {
     "data": {
      "text/plain": [
       "<AxesSubplot:>"
      ]
     },
     "execution_count": 313,
     "metadata": {},
     "output_type": "execute_result"
    },
    {
     "data": {
      "image/png": "[encoded data removed]",
      "text/plain": [
       "<Figure size 432x288 with 2 Axes>"
      ]
     },
     "metadata": {},
     "output_type": "display_data"
    }
   ],
   "source": [
    "cm = confusion_matrix(y,test_pred)\n",
    "\n",
    "print(\"Accuracy = \"+str(accuracy_score(y, test_pred)))\n",
    "print(\"F1 SCORE = \"+str(f1_score(y, test_pred)))\n",
    "print(\"PRECISION = \"+str(precision_score(y,test_pred)))\n",
    "print(\"RECALL = \"+str(recall_score(y,test_pred)))\n",
    "group_names = [\"True Neg\",\"False Pos\",\"False Neg\",\"True Pos\"]\n",
    "group_counts = [\"{0:0.0f}\".format(value) for value in\n",
    "                cm.flatten()]\n",
    "group_percentages = [\"{0:.2%}\".format(value) for value in\n",
    "                     cm.flatten()/np.sum(cm)]\n",
    "labels = [f\"{v1}\\n{v2}\\n{v3}\" for v1, v2, v3 in\n",
    "          zip(group_names,group_counts,group_percentages)]\n",
    "labels = np.asarray(labels).reshape(2,2)\n",
    "sns.heatmap(cm, annot=labels,fmt=\"\")\n"
   ]
  },
  {
   "cell_type": "markdown",
   "metadata": {},
   "source": [
    "# Model accuracy is 86.5%\n"
   ]
  },
  {
   "cell_type": "code",
   "execution_count": null,
   "metadata": {},
   "outputs": [],
   "source": []
  },
  {
   "cell_type": "code",
   "execution_count": null,
   "metadata": {},
   "outputs": [],
   "source": []
  },
  {
   "cell_type": "code",
   "execution_count": null,
   "metadata": {},
   "outputs": [],
   "source": []
  },
  {
   "cell_type": "code",
   "execution_count": null,
   "metadata": {},
   "outputs": [],
   "source": []
  },
  {
   "cell_type": "code",
   "execution_count": null,
   "metadata": {},
   "outputs": [],
   "source": []
  },
  {
   "cell_type": "code",
   "execution_count": null,
   "metadata": {},
   "outputs": [],
   "source": []
  },
  {
   "cell_type": "code",
   "execution_count": null,
   "metadata": {},
   "outputs": [],
   "source": []
  },
  {
   "cell_type": "code",
   "execution_count": null,
   "metadata": {},
   "outputs": [],
   "source": []
  },
  {
   "cell_type": "code",
   "execution_count": null,
   "metadata": {},
   "outputs": [],
   "source": []
  },
  {
   "cell_type": "code",
   "execution_count": null,
   "metadata": {},
   "outputs": [],
   "source": []
  },
  {
   "cell_type": "code",
   "execution_count": null,
   "metadata": {},
   "outputs": [],
   "source": []
  },
  {
   "cell_type": "code",
   "execution_count": null,
   "metadata": {},
   "outputs": [],
   "source": []
  }
 ],
 "metadata": {
  "kernelspec": {
   "display_name": "Python [default]",
   "language": "python",
   "name": "python3"
  },
  "language_info": {
   "codemirror_mode": {
    "name": "ipython",
    "version": 3
   },
   "file_extension": ".py",
   "mimetype": "text/x-python",
   "name": "python",
   "nbconvert_exporter": "python",
   "pygments_lexer": "ipython3",
   "version": "3.6.4"
  }
 },
 "nbformat": 4,
 "nbformat_minor": 2
}
